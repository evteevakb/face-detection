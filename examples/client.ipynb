{
 "cells": [
  {
   "cell_type": "code",
   "execution_count": null,
   "metadata": {},
   "outputs": [],
   "source": [
    "from io import BytesIO\n",
    "\n",
    "from PIL import Image\n",
    "import requests"
   ]
  },
  {
   "cell_type": "code",
   "execution_count": null,
   "metadata": {},
   "outputs": [],
   "source": [
    "no_human = \"../tests/data/no_humans.jpg\"\n",
    "one_human = \"../tests/data/one_human.jpg\"\n",
    "many_humans = \"../tests/data/many_humans.jpeg\""
   ]
  },
  {
   "cell_type": "markdown",
   "metadata": {},
   "source": [
    "### Check connection"
   ]
  },
  {
   "cell_type": "code",
   "execution_count": null,
   "metadata": {},
   "outputs": [],
   "source": [
    "response = requests.get(\"http://localhost:8000/\")\n",
    "response.json()"
   ]
  },
  {
   "cell_type": "markdown",
   "metadata": {},
   "source": [
    "### Send image for face detection"
   ]
  },
  {
   "cell_type": "code",
   "execution_count": null,
   "metadata": {},
   "outputs": [],
   "source": [
    "input_image = [(\"file\", open(one_human, \"rb\"))]\n",
    "response = requests.post(\"http://localhost:8000/image\", files=input_image)\n",
    "response = response.json()\n",
    "response"
   ]
  },
  {
   "cell_type": "markdown",
   "metadata": {},
   "source": [
    "### Get image with face bounding box"
   ]
  },
  {
   "cell_type": "code",
   "execution_count": null,
   "metadata": {},
   "outputs": [],
   "source": [
    "color = \"red\"\n",
    "output_image = requests.get(f\"http://localhost:8000/image/{response['id']}\", params={\"color\": color})\n",
    "Image.open(BytesIO(output_image.content))"
   ]
  },
  {
   "cell_type": "markdown",
   "metadata": {},
   "source": [
    "### Replace image"
   ]
  },
  {
   "cell_type": "code",
   "execution_count": null,
   "metadata": {},
   "outputs": [],
   "source": [
    "input_image2 = [(\"file\", open(many_humans, \"rb\"))]\n",
    "replaced_response = requests.put(f\"http://localhost:8000/image/{response['id']}\", files=input_image2)\n",
    "replaced_response = replaced_response.json()\n",
    "replaced_response"
   ]
  },
  {
   "cell_type": "code",
   "execution_count": null,
   "metadata": {},
   "outputs": [],
   "source": [
    "color = \"red\"\n",
    "output_image2 = requests.get(f\"http://localhost:8000/image/{replaced_response['id']}\", params={\"color\": color})\n",
    "Image.open(BytesIO(output_image2.content))"
   ]
  },
  {
   "cell_type": "markdown",
   "metadata": {},
   "source": [
    "### Remove image"
   ]
  },
  {
   "cell_type": "code",
   "execution_count": null,
   "metadata": {},
   "outputs": [],
   "source": [
    "delete_response = requests.delete(f\"http://localhost:8000/image/{replaced_response['id']}\")"
   ]
  }
 ],
 "metadata": {
  "kernelspec": {
   "display_name": "Python 3.10.4 ('venv': venv)",
   "language": "python",
   "name": "python3"
  },
  "language_info": {
   "codemirror_mode": {
    "name": "ipython",
    "version": 3
   },
   "file_extension": ".py",
   "mimetype": "text/x-python",
   "name": "python",
   "nbconvert_exporter": "python",
   "pygments_lexer": "ipython3",
   "version": "3.10.4"
  },
  "orig_nbformat": 4,
  "vscode": {
   "interpreter": {
    "hash": "7da7ae27b688779bca6529177f4e7ef01cb4a2acf51abf58bbe348805bd1675b"
   }
  }
 },
 "nbformat": 4,
 "nbformat_minor": 2
}
